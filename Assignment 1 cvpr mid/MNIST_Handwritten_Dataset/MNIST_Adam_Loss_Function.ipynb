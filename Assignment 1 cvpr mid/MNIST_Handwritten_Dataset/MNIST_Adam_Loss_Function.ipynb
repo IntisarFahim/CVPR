{
 "cells": [
  {
   "cell_type": "code",
   "execution_count": 1,
   "id": "skilled-flight",
   "metadata": {},
   "outputs": [],
   "source": [
    "import os"
   ]
  },
  {
   "cell_type": "code",
   "execution_count": 2,
   "id": "upper-volleyball",
   "metadata": {},
   "outputs": [],
   "source": [
    "os.environ[\"TF_CPP_MIN_LOG_LEVEL\"] = \"2\""
   ]
  },
  {
   "cell_type": "code",
   "execution_count": 3,
   "id": "rocky-shelter",
   "metadata": {},
   "outputs": [],
   "source": [
    "import numpy as np"
   ]
  },
  {
   "cell_type": "code",
   "execution_count": 4,
   "id": "contemporary-boating",
   "metadata": {},
   "outputs": [],
   "source": [
    "import tensorflow as tf"
   ]
  },
  {
   "cell_type": "code",
   "execution_count": 5,
   "id": "republican-uncle",
   "metadata": {},
   "outputs": [],
   "source": [
    "import tensorflow.keras.layers  as KL"
   ]
  },
  {
   "cell_type": "code",
   "execution_count": 6,
   "id": "independent-walker",
   "metadata": {},
   "outputs": [],
   "source": [
    "import tensorflow.keras.models  as KM"
   ]
  },
  {
   "cell_type": "markdown",
   "id": "severe-ethics",
   "metadata": {},
   "source": [
    "# Dataset Download"
   ]
  },
  {
   "cell_type": "code",
   "execution_count": 8,
   "id": "sticky-bridal",
   "metadata": {},
   "outputs": [],
   "source": [
    "(x_train, y_train), (x_test, y_test) = mnist.load_data()\n",
    "x_train, x_test = x_train/255.0, x_test/255.0\n",
    "x_train, x_test = np.expand_dims(x_train, axis=-1), np.expand_dims(x_test, axis=-1)"
   ]
  },
  {
   "cell_type": "markdown",
   "id": "extensive-depression",
   "metadata": {},
   "source": [
    "# Model with Adam loss function"
   ]
  },
  {
   "cell_type": "code",
   "execution_count": 9,
   "id": "found-graduation",
   "metadata": {},
   "outputs": [],
   "source": [
    "inputs = KL.Input(shape=(28, 28, 1))\n",
    "c = KL.Conv2D(32, (3, 3), padding=\"valid\", activation=tf.nn.relu)(inputs)\n",
    "m = KL.MaxPool2D((2, 2), (2, 2))(c)\n",
    "d = KL.Dropout(0.5)(m)\n",
    "c = KL.Conv2D(64, (3, 3), padding=\"valid\", activation=tf.nn.relu)(d)\n",
    "m = KL.MaxPool2D((2, 2), (2, 2))(c)\n",
    "d = KL.Dropout(0.5)(m)\n",
    "c = KL.Conv2D(128, (3, 3), padding=\"valid\", activation=tf.nn.relu)(d)\n",
    "f = KL.Flatten()(c)\n",
    "outputs = KL.Dense(10, activation=tf.nn.softmax)(f)"
   ]
  },
  {
   "cell_type": "code",
   "execution_count": 19,
   "id": "brief-incidence",
   "metadata": {},
   "outputs": [
    {
     "name": "stdout",
     "output_type": "stream",
     "text": [
      "Model: \"model_1\"\n",
      "_________________________________________________________________\n",
      "Layer (type)                 Output Shape              Param #   \n",
      "=================================================================\n",
      "input_1 (InputLayer)         [(None, 28, 28, 1)]       0         \n",
      "_________________________________________________________________\n",
      "conv2d (Conv2D)              (None, 26, 26, 32)        320       \n",
      "_________________________________________________________________\n",
      "max_pooling2d (MaxPooling2D) (None, 13, 13, 32)        0         \n",
      "_________________________________________________________________\n",
      "dropout (Dropout)            (None, 13, 13, 32)        0         \n",
      "_________________________________________________________________\n",
      "conv2d_1 (Conv2D)            (None, 11, 11, 64)        18496     \n",
      "_________________________________________________________________\n",
      "max_pooling2d_1 (MaxPooling2 (None, 5, 5, 64)          0         \n",
      "_________________________________________________________________\n",
      "dropout_1 (Dropout)          (None, 5, 5, 64)          0         \n",
      "_________________________________________________________________\n",
      "conv2d_2 (Conv2D)            (None, 3, 3, 128)         73856     \n",
      "_________________________________________________________________\n",
      "flatten (Flatten)            (None, 1152)              0         \n",
      "_________________________________________________________________\n",
      "dense (Dense)                (None, 10)                11530     \n",
      "=================================================================\n",
      "Total params: 104,202\n",
      "Trainable params: 104,202\n",
      "Non-trainable params: 0\n",
      "_________________________________________________________________\n"
     ]
    }
   ],
   "source": [
    "model = KM.Model(inputs, outputs)\n",
    "model.summary()\n",
    "model.compile(optimizer=\"adam\",\n",
    "                loss=\"sparse_categorical_crossentropy\",\n",
    "                metrics=[\"accuracy\"])\n"
   ]
  },
  {
   "cell_type": "code",
   "execution_count": 20,
   "id": "elegant-hearing",
   "metadata": {},
   "outputs": [
    {
     "name": "stdout",
     "output_type": "stream",
     "text": [
      "Epoch 1/5\n",
      "1875/1875 [==============================] - 35s 18ms/step - loss: 0.0329 - accuracy: 0.9889\n",
      "Epoch 2/5\n",
      "1875/1875 [==============================] - 33s 18ms/step - loss: 0.0340 - accuracy: 0.9891\n",
      "Epoch 3/5\n",
      "1875/1875 [==============================] - 34s 18ms/step - loss: 0.0314 - accuracy: 0.9901\n",
      "Epoch 4/5\n",
      "1875/1875 [==============================] - 34s 18ms/step - loss: 0.0327 - accuracy: 0.9898\n",
      "Epoch 5/5\n",
      "1875/1875 [==============================] - 34s 18ms/step - loss: 0.0309 - accuracy: 0.9899\n",
      "313/313 [==============================] - 2s 5ms/step - loss: 0.0181 - accuracy: 0.9936\n",
      "Test Loss: 0.018103433772921562 - Test Acc: 0.9936000108718872\n"
     ]
    }
   ],
   "source": [
    "history = model.fit(x_train, y_train, epochs=5)\n",
    "test_loss, test_acc = model.evaluate(x_test, y_test)\n",
    "print(\"Test Loss: {0} - Test Acc: {1}\".format(test_loss, test_acc))"
   ]
  },
  {
   "cell_type": "code",
   "execution_count": 21,
   "id": "nasty-working",
   "metadata": {},
   "outputs": [],
   "source": [
    "import matplotlib.pyplot as plt"
   ]
  },
  {
   "cell_type": "code",
   "execution_count": 22,
   "id": "casual-negative",
   "metadata": {},
   "outputs": [
    {
     "data": {
      "text/plain": [
       "<matplotlib.legend.Legend at 0x1bcd8386f88>"
      ]
     },
     "execution_count": 22,
     "metadata": {},
     "output_type": "execute_result"
    },
    {
     "data": {
      "image/png": "[encoded data removed]",
      "text/plain": [
       "<Figure size 432x288 with 1 Axes>"
      ]
     },
     "metadata": {
      "needs_background": "light"
     },
     "output_type": "display_data"
    }
   ],
   "source": [
    "plt.plot(history.history['accuracy'], label='accuracy')\n",
    "plt.xlabel('Epoch')\n",
    "plt.ylabel('Accuracy')\n",
    "plt.ylim([0.5, 1])\n",
    "plt.legend(loc='lower right')"
   ]
  },
  {
   "cell_type": "code",
   "execution_count": null,
   "id": "nearby-coach",
   "metadata": {},
   "outputs": [],
   "source": []
  }
 ],
 "metadata": {
  "kernelspec": {
   "display_name": "Python 3",
   "language": "python",
   "name": "python3"
  },
  "language_info": {
   "codemirror_mode": {
    "name": "ipython",
    "version": 3
   },
   "file_extension": ".py",
   "mimetype": "text/x-python",
   "name": "python",
   "nbconvert_exporter": "python",
   "pygments_lexer": "ipython3",
   "version": "3.7.8"
  }
 },
 "nbformat": 4,
 "nbformat_minor": 5
}
